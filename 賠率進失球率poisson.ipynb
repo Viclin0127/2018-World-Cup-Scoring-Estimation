{
 "cells": [
  {
   "cell_type": "code",
   "execution_count": 1,
   "metadata": {
    "collapsed": true
   },
   "outputs": [],
   "source": [
    "from scipy.stats import poisson\n",
    "import pandas as pd\n",
    "from scipy.stats import mode\n",
    "import numpy as np"
   ]
  },
  {
   "cell_type": "code",
   "execution_count": 16,
   "metadata": {
    "collapsed": true
   },
   "outputs": [],
   "source": [
    "team_strength = pd.read_excel('球隊參數-4強.xlsx')\n",
    "\n",
    "# 每一场球生成几次泊松随机数，次数越多随机因素越小\n",
    "n_sim = 5\n",
    "\n",
    "def simulate_match(team_A, team_B, knockout=False):\n",
    "    \"\"\"模拟一场比赛，返回主队进球数、客队进球数\"\"\"\n",
    "    # 获取比赛双方进球率、失球率\n",
    "    home_scoring_strength = (team_strength.loc[team_A, '進球率'] + \\\n",
    "                             team_strength.loc[team_B, '失球率']) / 2\n",
    "    away_scoring_strength = (team_strength.loc[team_A, '失球率'] + \\\n",
    "                             team_strength.loc[team_B, '進球率']) / 2\n",
    "    # 模拟n次比赛进球数取众数\n",
    "    fs_A =mode(poisson.rvs(home_scoring_strength, size=7))[0][0]\n",
    "    fs_B =mode(poisson.rvs(away_scoring_strength, size=7))[0][0]\n",
    "    print(fs_A,fs_B)\n",
    "    # 进入淘汰赛，若平局，点球大战晋级概率50%：50%\n",
    "    if knockout:\n",
    "        if fs_A == fs_B:\n",
    "            return [team_A, team_B][sp.random.randint(0, 2)]\n",
    "        elif fs_A > fs_B:\n",
    "            return team_A\n",
    "        else:\n",
    "            return team_B\n",
    "    return fs_A, fs_B"
   ]
  },
  {
   "cell_type": "code",
   "execution_count": 26,
   "metadata": {},
   "outputs": [
    {
     "name": "stdout",
     "output_type": "stream",
     "text": [
      "1 0\n"
     ]
    },
    {
     "data": {
      "text/plain": [
       "(1, 0)"
      ]
     },
     "execution_count": 26,
     "metadata": {},
     "output_type": "execute_result"
    }
   ],
   "source": [
    "simulate_match(\"France\",\"England\",knockout = False)"
   ]
  },
  {
   "cell_type": "code",
   "execution_count": 33,
   "metadata": {
    "scrolled": false
   },
   "outputs": [
    {
     "name": "stdout",
     "output_type": "stream",
     "text": [
      "0 1\n",
      "1 1\n"
     ]
    }
   ],
   "source": [
    "schedule = pd.read_excel(\"對戰表-4強.xlsx\")\n",
    "a_team=schedule[\"主隊\"]\n",
    "b_team=schedule[\"客隊\"]\n",
    "score=[]\n",
    "for a,b in zip(a_team,b_team):\n",
    "    score.append(simulate_match(a,b,knockout = False))"
   ]
  },
  {
   "cell_type": "code",
   "execution_count": null,
   "metadata": {
    "collapsed": true
   },
   "outputs": [],
   "source": []
  }
 ],
 "metadata": {
  "kernelspec": {
   "display_name": "Python 3",
   "language": "python",
   "name": "python3"
  },
  "language_info": {
   "codemirror_mode": {
    "name": "ipython",
    "version": 3
   },
   "file_extension": ".py",
   "mimetype": "text/x-python",
   "name": "python",
   "nbconvert_exporter": "python",
   "pygments_lexer": "ipython3",
   "version": "3.6.5"
  }
 },
 "nbformat": 4,
 "nbformat_minor": 2
}
